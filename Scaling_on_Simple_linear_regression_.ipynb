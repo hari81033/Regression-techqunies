{
  "nbformat": 4,
  "nbformat_minor": 0,
  "metadata": {
    "colab": {
      "name": "Scaling on Simple linear regression .ipynb",
      "provenance": [],
      "collapsed_sections": [
        "cvTiGjEfnO-B",
        "lS1LLCh0nb_2",
        "v2JSyudnoR-8"
      ],
      "toc_visible": true
    },
    "kernelspec": {
      "display_name": "Python 3",
      "name": "python3"
    }
  },
  "cells": [
    {
      "cell_type": "markdown",
      "metadata": {
        "id": "Uw5rb8zJmbKX"
      },
      "source": [
        "##**Simple** **linear** **regression** "
      ]
    },
    {
      "cell_type": "code",
      "metadata": {
        "id": "rhuGQ1B8G005"
      },
      "source": [
        "#importing libraies\r\n",
        "\r\n",
        "import numpy as np\r\n",
        "import pandas as pd\r\n",
        "import matplotlib.pyplot as plt\r\n",
        "%matplotlib inline\r\n",
        "from sklearn.linear_model import LinearRegression"
      ],
      "execution_count": 1,
      "outputs": []
    },
    {
      "cell_type": "code",
      "metadata": {
        "id": "yRnYk-9ZnMeI"
      },
      "source": [
        "#read the csv file\r\n",
        "\r\n",
        "data=pd.read_csv('/content/Salary_Data.csv')"
      ],
      "execution_count": 2,
      "outputs": []
    },
    {
      "cell_type": "markdown",
      "metadata": {
        "id": "cvTiGjEfnO-B"
      },
      "source": [
        "# Exploring data"
      ]
    },
    {
      "cell_type": "code",
      "metadata": {
        "colab": {
          "base_uri": "https://localhost:8080/",
          "height": 0
        },
        "id": "FARneWg2Kyi4",
        "outputId": "68479a93-9d1c-4f37-ce55-c079be50ce15"
      },
      "source": [
        "#view top 5 data rows\r\n",
        "\r\n",
        "data.head()"
      ],
      "execution_count": 3,
      "outputs": [
        {
          "output_type": "execute_result",
          "data": {
            "text/html": [
              "<div>\n",
              "<style scoped>\n",
              "    .dataframe tbody tr th:only-of-type {\n",
              "        vertical-align: middle;\n",
              "    }\n",
              "\n",
              "    .dataframe tbody tr th {\n",
              "        vertical-align: top;\n",
              "    }\n",
              "\n",
              "    .dataframe thead th {\n",
              "        text-align: right;\n",
              "    }\n",
              "</style>\n",
              "<table border=\"1\" class=\"dataframe\">\n",
              "  <thead>\n",
              "    <tr style=\"text-align: right;\">\n",
              "      <th></th>\n",
              "      <th>YearsExperience</th>\n",
              "      <th>Salary</th>\n",
              "    </tr>\n",
              "  </thead>\n",
              "  <tbody>\n",
              "    <tr>\n",
              "      <th>0</th>\n",
              "      <td>1.1</td>\n",
              "      <td>39343.0</td>\n",
              "    </tr>\n",
              "    <tr>\n",
              "      <th>1</th>\n",
              "      <td>1.3</td>\n",
              "      <td>46205.0</td>\n",
              "    </tr>\n",
              "    <tr>\n",
              "      <th>2</th>\n",
              "      <td>1.5</td>\n",
              "      <td>37731.0</td>\n",
              "    </tr>\n",
              "    <tr>\n",
              "      <th>3</th>\n",
              "      <td>2.0</td>\n",
              "      <td>43525.0</td>\n",
              "    </tr>\n",
              "    <tr>\n",
              "      <th>4</th>\n",
              "      <td>2.2</td>\n",
              "      <td>39891.0</td>\n",
              "    </tr>\n",
              "  </tbody>\n",
              "</table>\n",
              "</div>"
            ],
            "text/plain": [
              "   YearsExperience   Salary\n",
              "0              1.1  39343.0\n",
              "1              1.3  46205.0\n",
              "2              1.5  37731.0\n",
              "3              2.0  43525.0\n",
              "4              2.2  39891.0"
            ]
          },
          "metadata": {
            "tags": []
          },
          "execution_count": 3
        }
      ]
    },
    {
      "cell_type": "code",
      "metadata": {
        "colab": {
          "base_uri": "https://localhost:8080/"
        },
        "id": "BJmK7neWK-3t",
        "outputId": "3f4d064b-ba24-4a7f-b1fe-5155fd989e11"
      },
      "source": [
        "# view shape of the dataset\r\n",
        "\r\n",
        "data.shape\r\n",
        "\r\n",
        "# Here 30 represents no.of rows and 2 represents the no.of columns "
      ],
      "execution_count": 4,
      "outputs": [
        {
          "output_type": "execute_result",
          "data": {
            "text/plain": [
              "(30, 2)"
            ]
          },
          "metadata": {
            "tags": []
          },
          "execution_count": 4
        }
      ]
    },
    {
      "cell_type": "code",
      "metadata": {
        "colab": {
          "base_uri": "https://localhost:8080/",
          "height": 0
        },
        "id": "OdJj-RN8Okqz",
        "outputId": "ebcb86dd-9cbb-41f0-dc80-b1708e2eb754"
      },
      "source": [
        "# describing the data\r\n",
        "\r\n",
        "data.describe()"
      ],
      "execution_count": 5,
      "outputs": [
        {
          "output_type": "execute_result",
          "data": {
            "text/html": [
              "<div>\n",
              "<style scoped>\n",
              "    .dataframe tbody tr th:only-of-type {\n",
              "        vertical-align: middle;\n",
              "    }\n",
              "\n",
              "    .dataframe tbody tr th {\n",
              "        vertical-align: top;\n",
              "    }\n",
              "\n",
              "    .dataframe thead th {\n",
              "        text-align: right;\n",
              "    }\n",
              "</style>\n",
              "<table border=\"1\" class=\"dataframe\">\n",
              "  <thead>\n",
              "    <tr style=\"text-align: right;\">\n",
              "      <th></th>\n",
              "      <th>YearsExperience</th>\n",
              "      <th>Salary</th>\n",
              "    </tr>\n",
              "  </thead>\n",
              "  <tbody>\n",
              "    <tr>\n",
              "      <th>count</th>\n",
              "      <td>30.000000</td>\n",
              "      <td>30.000000</td>\n",
              "    </tr>\n",
              "    <tr>\n",
              "      <th>mean</th>\n",
              "      <td>5.313333</td>\n",
              "      <td>76003.000000</td>\n",
              "    </tr>\n",
              "    <tr>\n",
              "      <th>std</th>\n",
              "      <td>2.837888</td>\n",
              "      <td>27414.429785</td>\n",
              "    </tr>\n",
              "    <tr>\n",
              "      <th>min</th>\n",
              "      <td>1.100000</td>\n",
              "      <td>37731.000000</td>\n",
              "    </tr>\n",
              "    <tr>\n",
              "      <th>25%</th>\n",
              "      <td>3.200000</td>\n",
              "      <td>56720.750000</td>\n",
              "    </tr>\n",
              "    <tr>\n",
              "      <th>50%</th>\n",
              "      <td>4.700000</td>\n",
              "      <td>65237.000000</td>\n",
              "    </tr>\n",
              "    <tr>\n",
              "      <th>75%</th>\n",
              "      <td>7.700000</td>\n",
              "      <td>100544.750000</td>\n",
              "    </tr>\n",
              "    <tr>\n",
              "      <th>max</th>\n",
              "      <td>10.500000</td>\n",
              "      <td>122391.000000</td>\n",
              "    </tr>\n",
              "  </tbody>\n",
              "</table>\n",
              "</div>"
            ],
            "text/plain": [
              "       YearsExperience         Salary\n",
              "count        30.000000      30.000000\n",
              "mean          5.313333   76003.000000\n",
              "std           2.837888   27414.429785\n",
              "min           1.100000   37731.000000\n",
              "25%           3.200000   56720.750000\n",
              "50%           4.700000   65237.000000\n",
              "75%           7.700000  100544.750000\n",
              "max          10.500000  122391.000000"
            ]
          },
          "metadata": {
            "tags": []
          },
          "execution_count": 5
        }
      ]
    },
    {
      "cell_type": "code",
      "metadata": {
        "id": "uikl88D0naTP"
      },
      "source": [
        ""
      ],
      "execution_count": 5,
      "outputs": []
    },
    {
      "cell_type": "markdown",
      "metadata": {
        "id": "lS1LLCh0nb_2"
      },
      "source": [
        "# visulaizing data"
      ]
    },
    {
      "cell_type": "code",
      "metadata": {
        "colab": {
          "base_uri": "https://localhost:8080/",
          "height": 0
        },
        "id": "w9ASXBmhLKlb",
        "outputId": "466813d5-e81c-4792-d907-41b0738de18d"
      },
      "source": [
        "plt.scatter(data.YearsExperience,data.Salary)    # or # plt.scatter(data['YearsExperience'],data['Salary'])\r\n",
        "plt.title(\"scatter plot\")\r\n",
        "plt.xlabel(\"YearsExperience\")\r\n",
        "plt.ylabel(\"Salary\")"
      ],
      "execution_count": 6,
      "outputs": [
        {
          "output_type": "execute_result",
          "data": {
            "text/plain": [
              "Text(0, 0.5, 'Salary')"
            ]
          },
          "metadata": {
            "tags": []
          },
          "execution_count": 6
        },
        {
          "output_type": "display_data",
          "data": {
            "image/png": "[encoded data removed]",
            "text/plain": [
              "<Figure size 432x288 with 1 Axes>"
            ]
          },
          "metadata": {
            "tags": [],
            "needs_background": "light"
          }
        }
      ]
    },
    {
      "cell_type": "code",
      "metadata": {
        "colab": {
          "base_uri": "https://localhost:8080/",
          "height": 0
        },
        "id": "oQGLV0j5Mx4e",
        "outputId": "f2570c3f-c398-4eee-88d9-261dcb719ebe"
      },
      "source": [
        "plt.bar(data.YearsExperience,data.Salary)"
      ],
      "execution_count": 7,
      "outputs": [
        {
          "output_type": "execute_result",
          "data": {
            "text/plain": [
              "<BarContainer object of 30 artists>"
            ]
          },
          "metadata": {
            "tags": []
          },
          "execution_count": 7
        },
        {
          "output_type": "display_data",
          "data": {
            "image/png": "[encoded data removed]",
            "text/plain": [
              "<Figure size 432x288 with 1 Axes>"
            ]
          },
          "metadata": {
            "tags": [],
            "needs_background": "light"
          }
        }
      ]
    },
    {
      "cell_type": "markdown",
      "metadata": {
        "id": "A4mBOVrpnlNK"
      },
      "source": [
        "# Load and split the data\r\n"
      ]
    },
    {
      "cell_type": "code",
      "metadata": {
        "id": "SCI5IU5mQXuN"
      },
      "source": [
        "# Splitting the variables into independent and target(dependent) \r\n",
        "X=data.iloc[:,:-1]  #independent  either we use  data.iloc[:,:-1].values which give values in array and without any variables\r\n",
        "y=data.iloc[:,1].values     #target    "
      ],
      "execution_count": 8,
      "outputs": []
    },
    {
      "cell_type": "code",
      "metadata": {
        "id": "zqu1UctyP-hz"
      },
      "source": [
        "# Splitting the dataset into the Training set and Test set\r\n",
        "\r\n",
        "from sklearn.model_selection import train_test_split\r\n",
        "X_train, X_test, y_train, y_test = train_test_split(X, y, test_size = .3, random_state = 0)"
      ],
      "execution_count": 9,
      "outputs": []
    },
    {
      "cell_type": "markdown",
      "metadata": {
        "id": "H91KKHODnr-a"
      },
      "source": [
        "# Build the model"
      ]
    },
    {
      "cell_type": "code",
      "metadata": {
        "colab": {
          "base_uri": "https://localhost:8080/"
        },
        "id": "taYP4W33UczW",
        "outputId": "05f0e919-c9f0-4265-ba69-e78afacabd6c"
      },
      "source": [
        "#fit the model\r\n",
        "\r\n",
        "regressor = LinearRegression()\r\n",
        "regressor.fit(X_train, y_train)"
      ],
      "execution_count": 10,
      "outputs": [
        {
          "output_type": "execute_result",
          "data": {
            "text/plain": [
              "LinearRegression(copy_X=True, fit_intercept=True, n_jobs=None, normalize=False)"
            ]
          },
          "metadata": {
            "tags": []
          },
          "execution_count": 10
        }
      ]
    },
    {
      "cell_type": "code",
      "metadata": {
        "colab": {
          "base_uri": "https://localhost:8080/",
          "height": 283
        },
        "id": "RmG459kxeUod",
        "outputId": "dd804534-3da1-4b6a-cb07-368f3f0396ff"
      },
      "source": [
        "# Visualising the Training set results\r\n",
        "\r\n",
        "plt.scatter(X_train, y_train, color = 'red')    #ploting the points \r\n",
        "plt.plot(X_train, regressor.predict(X_train), color = 'black')   #ploting best fit line "
      ],
      "execution_count": 11,
      "outputs": [
        {
          "output_type": "execute_result",
          "data": {
            "text/plain": [
              "[<matplotlib.lines.Line2D at 0x7fd4e8a3d1d0>]"
            ]
          },
          "metadata": {
            "tags": []
          },
          "execution_count": 11
        },
        {
          "output_type": "display_data",
          "data": {
            "image/png": "[encoded data removed]",
            "text/plain": [
              "<Figure size 432x288 with 1 Axes>"
            ]
          },
          "metadata": {
            "tags": [],
            "needs_background": "light"
          }
        }
      ]
    },
    {
      "cell_type": "code",
      "metadata": {
        "id": "0wQ5AbDQfGB0"
      },
      "source": [
        "#predict the result for test data\r\n",
        "\r\n",
        "y_pred = regressor.predict(X_test)\r\n"
      ],
      "execution_count": 12,
      "outputs": []
    },
    {
      "cell_type": "code",
      "metadata": {
        "colab": {
          "base_uri": "https://localhost:8080/",
          "height": 283
        },
        "id": "RyAkHgLbc3jL",
        "outputId": "2db069cd-c954-400a-ae3c-2b61d09dc1ef"
      },
      "source": [
        "# Visualising the Test set results\r\n",
        "plt.scatter(X_test, y_test, color = 'red')                  # test data\r\n",
        "plt.plot(X_train, regressor.predict(X_train), color = 'blue') #best fit line for train data\r\n"
      ],
      "execution_count": 13,
      "outputs": [
        {
          "output_type": "execute_result",
          "data": {
            "text/plain": [
              "[<matplotlib.lines.Line2D at 0x7fd4e89bf2b0>]"
            ]
          },
          "metadata": {
            "tags": []
          },
          "execution_count": 13
        },
        {
          "output_type": "display_data",
          "data": {
            "image/png": "[encoded data removed]",
            "text/plain": [
              "<Figure size 432x288 with 1 Axes>"
            ]
          },
          "metadata": {
            "tags": [],
            "needs_background": "light"
          }
        }
      ]
    },
    {
      "cell_type": "code",
      "metadata": {
        "id": "TwThA7lM0r8h",
        "outputId": "ebb6e0ff-aedb-4b08-b26c-4f60284273db",
        "colab": {
          "base_uri": "https://localhost:8080/"
        }
      },
      "source": [
        "from sklearn.metrics import r2_score\r\n",
        "r2_score(y_test,y_pred)"
      ],
      "execution_count": 14,
      "outputs": [
        {
          "output_type": "execute_result",
          "data": {
            "text/plain": [
              "0.9740993407213511"
            ]
          },
          "metadata": {
            "tags": []
          },
          "execution_count": 14
        }
      ]
    },
    {
      "cell_type": "code",
      "metadata": {
        "id": "PxkKihgA2UyR",
        "outputId": "81db94bd-0ded-444d-ae43-7959f74c2b31",
        "colab": {
          "base_uri": "https://localhost:8080/"
        }
      },
      "source": [
        "regressor.predict([[2.3]]) "
      ],
      "execution_count": 15,
      "outputs": [
        {
          "output_type": "execute_result",
          "data": {
            "text/plain": [
              "array([48305.99229944])"
            ]
          },
          "metadata": {
            "tags": []
          },
          "execution_count": 15
        }
      ]
    },
    {
      "cell_type": "markdown",
      "metadata": {
        "id": "N1OImPtd1zcX"
      },
      "source": [
        "# Scaling -Normalization\r\n"
      ]
    },
    {
      "cell_type": "code",
      "metadata": {
        "id": "KETvQJzc13n5"
      },
      "source": [
        "from sklearn.preprocessing import MinMaxScaler"
      ],
      "execution_count": 16,
      "outputs": []
    },
    {
      "cell_type": "code",
      "metadata": {
        "id": "UhdX-pt63IDv"
      },
      "source": [
        "mms=MinMaxScaler()\r\n",
        "X_train=mms.fit_transform(X_train)\r\n",
        "X_test=mms.fit_transform(X_test)\r\n"
      ],
      "execution_count": 17,
      "outputs": []
    },
    {
      "cell_type": "code",
      "metadata": {
        "colab": {
          "base_uri": "https://localhost:8080/"
        },
        "id": "En0t0O7ytlfY",
        "outputId": "a5f4ac1f-92a0-4e15-ae49-57f5fc612398"
      },
      "source": [
        "X_train           #Values are getting redued to 0 - 1"
      ],
      "execution_count": 18,
      "outputs": [
        {
          "output_type": "execute_result",
          "data": {
            "text/plain": [
              "array([[0.72340426],\n",
              "       [0.19148936],\n",
              "       [0.42553191],\n",
              "       [0.22340426],\n",
              "       [0.36170213],\n",
              "       [0.75531915],\n",
              "       [0.60638298],\n",
              "       [0.0212766 ],\n",
              "       [1.        ],\n",
              "       [0.20212766],\n",
              "       [0.11702128],\n",
              "       [0.5106383 ],\n",
              "       [0.5212766 ],\n",
              "       [0.27659574],\n",
              "       [0.22340426],\n",
              "       [0.84042553],\n",
              "       [0.09574468],\n",
              "       [0.        ],\n",
              "       [0.63829787],\n",
              "       [0.40425532],\n",
              "       [0.30851064]])"
            ]
          },
          "metadata": {
            "tags": []
          },
          "execution_count": 18
        }
      ]
    },
    {
      "cell_type": "code",
      "metadata": {
        "colab": {
          "base_uri": "https://localhost:8080/"
        },
        "id": "Uk7AMgW6iZ-n",
        "outputId": "cab3868e-89f2-49ad-8b11-76e124f46005"
      },
      "source": [
        "#fit the model\r\n",
        "\r\n",
        "regressor = LinearRegression()\r\n",
        "regressor.fit(X_train, y_train)"
      ],
      "execution_count": 19,
      "outputs": [
        {
          "output_type": "execute_result",
          "data": {
            "text/plain": [
              "LinearRegression(copy_X=True, fit_intercept=True, n_jobs=None, normalize=False)"
            ]
          },
          "metadata": {
            "tags": []
          },
          "execution_count": 19
        }
      ]
    },
    {
      "cell_type": "code",
      "metadata": {
        "id": "6a-Sq7w3ugnT"
      },
      "source": [
        "#predict the result for test data\r\n",
        "\r\n",
        "y_pred = regressor.predict(X_test)"
      ],
      "execution_count": 20,
      "outputs": []
    },
    {
      "cell_type": "code",
      "metadata": {
        "colab": {
          "base_uri": "https://localhost:8080/",
          "height": 283
        },
        "id": "2qCzskrvifjL",
        "outputId": "534c193d-f50a-48ca-b0ef-05184be55811"
      },
      "source": [
        "# Visualising the Training set results\r\n",
        "\r\n",
        "plt.scatter(X_test, y_test, color = 'red')    #ploting the points \r\n",
        "plt.plot(X_train, regressor.predict(X_train), color = 'black')   #ploting best fit line "
      ],
      "execution_count": 21,
      "outputs": [
        {
          "output_type": "execute_result",
          "data": {
            "text/plain": [
              "[<matplotlib.lines.Line2D at 0x7fd4e8ab26d8>]"
            ]
          },
          "metadata": {
            "tags": []
          },
          "execution_count": 21
        },
        {
          "output_type": "display_data",
          "data": {
            "image/png": "[encoded data removed]",
            "text/plain": [
              "<Figure size 432x288 with 1 Axes>"
            ]
          },
          "metadata": {
            "tags": [],
            "needs_background": "light"
          }
        }
      ]
    },
    {
      "cell_type": "code",
      "metadata": {
        "colab": {
          "base_uri": "https://localhost:8080/"
        },
        "id": "buXQAucVw9FH",
        "outputId": "19cbf7ca-5700-4f87-c5ec-a55760c5d1b5"
      },
      "source": [
        "from sklearn.metrics import r2_score\r\n",
        "r2_score(y_test,y_pred)"
      ],
      "execution_count": 22,
      "outputs": [
        {
          "output_type": "execute_result",
          "data": {
            "text/plain": [
              "0.977670342270911"
            ]
          },
          "metadata": {
            "tags": []
          },
          "execution_count": 22
        }
      ]
    },
    {
      "cell_type": "markdown",
      "metadata": {
        "id": "M_vJ8bRuxY9z"
      },
      "source": [
        "#Standization \r\n"
      ]
    },
    {
      "cell_type": "code",
      "metadata": {
        "id": "fDwtEh4_yAl2"
      },
      "source": [
        "data_copy2=pd.read_csv(\"/content/Salary_Data.csv\")"
      ],
      "execution_count": 24,
      "outputs": []
    },
    {
      "cell_type": "code",
      "metadata": {
        "id": "u1-AvhDQyAhT"
      },
      "source": [
        "# Splitting the variables into independent and target(dependent) \r\n",
        "X=data_copy2.iloc[:,:-1]  #independent  either we use  data.iloc[:,:-1].values which give values in array and without any variables\r\n",
        "y=data_copy2.iloc[:,1].values     #target    "
      ],
      "execution_count": 25,
      "outputs": []
    },
    {
      "cell_type": "code",
      "metadata": {
        "id": "PAU5vg_AyAgI"
      },
      "source": [
        "# Splitting the dataset into the Training set and Test set\r\n",
        "\r\n",
        "from sklearn.model_selection import train_test_split\r\n",
        "X_train, X_test, y_train, y_test = train_test_split(X, y, test_size = .3, random_state = 0)"
      ],
      "execution_count": 26,
      "outputs": []
    },
    {
      "cell_type": "code",
      "metadata": {
        "id": "jrST5NOexgAa"
      },
      "source": [
        "from sklearn.preprocessing import StandardScaler"
      ],
      "execution_count": 27,
      "outputs": []
    },
    {
      "cell_type": "code",
      "metadata": {
        "id": "g7Ts8ubBx0Lt"
      },
      "source": [
        "ss=StandardScaler()                     #z = (x - u) / s     ,where u is the mean and s is the standard deviation of the samples \r\n",
        "X_train=ss.fit_transform(X_train)\r\n",
        "X_test=ss.fit_transform(X_test)"
      ],
      "execution_count": 28,
      "outputs": []
    },
    {
      "cell_type": "code",
      "metadata": {
        "id": "JejZgdu7zVBn",
        "outputId": "3fcf794b-c7ff-467f-cef0-439d536f92ed",
        "colab": {
          "base_uri": "https://localhost:8080/"
        }
      },
      "source": [
        "X_train"
      ],
      "execution_count": 29,
      "outputs": [
        {
          "output_type": "execute_result",
          "data": {
            "text/plain": [
              "array([[ 1.17920075],\n",
              "       [-0.77373425],\n",
              "       [ 0.08555715],\n",
              "       [-0.65655815],\n",
              "       [-0.14879505],\n",
              "       [ 1.29637685],\n",
              "       [ 0.74955505],\n",
              "       [-1.39867344],\n",
              "       [ 2.19472695],\n",
              "       [-0.73467555],\n",
              "       [-1.04714515],\n",
              "       [ 0.39802675],\n",
              "       [ 0.43708545],\n",
              "       [-0.46126465],\n",
              "       [-0.65655815],\n",
              "       [ 1.60884645],\n",
              "       [-1.12526255],\n",
              "       [-1.47679084],\n",
              "       [ 0.86673115],\n",
              "       [ 0.00743975],\n",
              "       [-0.34408855]])"
            ]
          },
          "metadata": {
            "tags": []
          },
          "execution_count": 29
        }
      ]
    },
    {
      "cell_type": "code",
      "metadata": {
        "colab": {
          "base_uri": "https://localhost:8080/"
        },
        "id": "msyMnr7Cyh1n",
        "outputId": "a8cc04ba-03a6-4b72-ea09-53757818355b"
      },
      "source": [
        "#fit the model\r\n",
        "\r\n",
        "regressor = LinearRegression()\r\n",
        "regressor.fit(X_train, y_train)"
      ],
      "execution_count": 30,
      "outputs": [
        {
          "output_type": "execute_result",
          "data": {
            "text/plain": [
              "LinearRegression(copy_X=True, fit_intercept=True, n_jobs=None, normalize=False)"
            ]
          },
          "metadata": {
            "tags": []
          },
          "execution_count": 30
        }
      ]
    },
    {
      "cell_type": "code",
      "metadata": {
        "id": "uaxHzEzTz77s"
      },
      "source": [
        "y_pred=regressor.predict(X_test)"
      ],
      "execution_count": 31,
      "outputs": []
    },
    {
      "cell_type": "code",
      "metadata": {
        "id": "REtOWrQs0IIQ",
        "outputId": "5d9461ac-1ccc-41a2-c6b6-db4ec1e3bde3",
        "colab": {
          "base_uri": "https://localhost:8080/",
          "height": 283
        }
      },
      "source": [
        "plt.scatter(X_test,y_test)\r\n",
        "plt.plot(X_train, regressor.predict(X_train))"
      ],
      "execution_count": 32,
      "outputs": [
        {
          "output_type": "execute_result",
          "data": {
            "text/plain": [
              "[<matplotlib.lines.Line2D at 0x7fd4e89778d0>]"
            ]
          },
          "metadata": {
            "tags": []
          },
          "execution_count": 32
        },
        {
          "output_type": "display_data",
          "data": {
            "image/png": "[encoded data removed]",
            "text/plain": [
              "<Figure size 432x288 with 1 Axes>"
            ]
          },
          "metadata": {
            "tags": [],
            "needs_background": "light"
          }
        }
      ]
    },
    {
      "cell_type": "code",
      "metadata": {
        "id": "zmVbhPxW0hwW",
        "outputId": "a130b55e-f46a-4af8-bc83-a6a761a5ee4d",
        "colab": {
          "base_uri": "https://localhost:8080/"
        }
      },
      "source": [
        "from sklearn.metrics import r2_score\r\n",
        "r2_score(y_test,y_pred)"
      ],
      "execution_count": 33,
      "outputs": [
        {
          "output_type": "execute_result",
          "data": {
            "text/plain": [
              "0.7882768892739169"
            ]
          },
          "metadata": {
            "tags": []
          },
          "execution_count": 33
        }
      ]
    },
    {
      "cell_type": "markdown",
      "metadata": {
        "id": "JZ2I2cHI07iq"
      },
      "source": [
        "Now we compare the above three methods we got accuracy \r\n",
        "without any scaling =0.9740993407213511\r\n",
        "using MinMaxScaler (Normalization) = 0.977670342270911\r\n",
        "using StandardScaler (standardization) = 0.7882768892739169\r\n"
      ]
    }
  ]
}